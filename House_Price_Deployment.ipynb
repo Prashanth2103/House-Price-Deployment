{
 "cells": [
  {
   "cell_type": "markdown",
   "id": "7016f777",
   "metadata": {},
   "source": [
    "# House Price Prediction Deployment\n",
    "Train and save model for Flask API."
   ]
  },
  {
   "cell_type": "code",
   "execution_count": null,
   "id": "29acbf72",
   "metadata": {},
   "outputs": [],
   "source": [
    "# 1. Import libraries\n",
    "import pandas as pd\n",
    "from sklearn.model_selection import train_test_split\n",
    "from sklearn.ensemble import RandomForestRegressor\n",
    "from sklearn.metrics import mean_squared_error\n",
    "import pickle"
   ]
  },
  {
   "cell_type": "code",
   "execution_count": null,
   "id": "1a8657fb",
   "metadata": {},
   "outputs": [],
   "source": [
    "# 2. Load dataset\n",
    "df = pd.read_csv('house_prices.csv')\n",
    "df.head()"
   ]
  },
  {
   "cell_type": "code",
   "execution_count": null,
   "id": "d4448220",
   "metadata": {},
   "outputs": [],
   "source": [
    "# 3. Preprocessing (example)\n",
    "df = pd.get_dummies(df, drop_first=True)\n",
    "df.fillna(df.median(), inplace=True)"
   ]
  },
  {
   "cell_type": "code",
   "execution_count": null,
   "id": "3eb00f41",
   "metadata": {},
   "outputs": [],
   "source": [
    "# 4. Train-test split\n",
    "X = df.drop('price', axis=1)\n",
    "y = df['price']\n",
    "X_train, X_test, y_train, y_test = train_test_split(X, y, test_size=0.2, random_state=42)"
   ]
  },
  {
   "cell_type": "code",
   "execution_count": null,
   "id": "67e31805",
   "metadata": {},
   "outputs": [],
   "source": [
    "# 5. Train model\n",
    "model = RandomForestRegressor(n_estimators=100, random_state=42)\n",
    "model.fit(X_train, y_train)\n",
    "preds = model.predict(X_test)\n",
    "print('RMSE:', mean_squared_error(y_test, preds, squared=False))"
   ]
  },
  {
   "cell_type": "code",
   "execution_count": null,
   "id": "bbf98d54",
   "metadata": {},
   "outputs": [],
   "source": [
    "# 6. Save trained model\n",
    "with open('house_model.pkl', 'wb') as f:\n",
    "    pickle.dump(model, f)\n",
    "print('Model saved to house_model.pkl')"
   ]
  },
  {
   "cell_type": "markdown",
   "id": "3f3b50aa",
   "metadata": {},
   "source": [
    "## Next Step: Create `app.py` for Flask to serve this model."
   ]
  }
 ],
 "metadata": {},
 "nbformat": 4,
 "nbformat_minor": 5
}
